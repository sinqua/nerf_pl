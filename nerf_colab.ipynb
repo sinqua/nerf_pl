{
  "nbformat": 4,
  "nbformat_minor": 0,
  "metadata": {
    "colab": {
      "name": "nerf_colab.ipynb",
      "provenance": [],
      "collapsed_sections": [
        "sR-o1P3cyiKS"
      ],
      "include_colab_link": true
    },
    "kernelspec": {
      "name": "python3",
      "display_name": "Python 3"
    },
    "accelerator": "GPU",
    "gpuClass": "standard"
  },
  "cells": [
    {
      "cell_type": "markdown",
      "metadata": {
        "id": "view-in-github",
        "colab_type": "text"
      },
      "source": [
        "<a href=\"https://colab.research.google.com/github/sinqua/nerf_pl/blob/master/nerf_colab.ipynb\" target=\"_parent\"><img src=\"https://colab.research.google.com/assets/colab-badge.svg\" alt=\"Open In Colab\"/></a>"
      ]
    },
    {
      "cell_type": "markdown",
      "metadata": {
        "id": "8FtjuySytsiD"
      },
      "source": [
        "# Installation (only required for the first run)"
      ]
    },
    {
      "cell_type": "code",
      "metadata": {
        "id": "GjDZ_CNzoncH",
        "colab": {
          "base_uri": "https://localhost:8080/",
          "height": 1000
        },
        "outputId": "cb7c4c93-8975-470d-e23f-8cbdb20758bd"
      },
      "source": [
        "!git clone --recursive https://github.com/kwea123/nerf_pl\n",
        "\n",
        "%cd /content/nerf_pl\n",
        "!pip install -r requirements.txt\n",
        "\n",
        "%cd /content/nerf_pl/torchsearchsorted\n",
        "!pip install ."
      ],
      "execution_count": 1,
      "outputs": [
        {
          "output_type": "stream",
          "name": "stdout",
          "text": [
            "Cloning into 'nerf_pl'...\n",
            "remote: Enumerating objects: 1310, done.\u001b[K\n",
            "remote: Total 1310 (delta 0), reused 0 (delta 0), pack-reused 1310\u001b[K\n",
            "Receiving objects: 100% (1310/1310), 23.34 MiB | 32.79 MiB/s, done.\n",
            "Resolving deltas: 100% (832/832), done.\n",
            "Submodule 'torchsearchsorted' (https://github.com/aliutkus/torchsearchsorted.git) registered for path 'torchsearchsorted'\n",
            "Cloning into '/content/nerf_pl/torchsearchsorted'...\n",
            "remote: Enumerating objects: 373, done.        \n",
            "remote: Counting objects: 100% (13/13), done.        \n",
            "remote: Compressing objects: 100% (9/9), done.        \n",
            "remote: Total 373 (delta 5), reused 4 (delta 4), pack-reused 360        \n",
            "Receiving objects: 100% (373/373), 65.07 KiB | 508.00 KiB/s, done.\n",
            "Resolving deltas: 100% (191/191), done.\n",
            "Submodule path 'torchsearchsorted': checked out '1e0ffc3e0663ffda318b4e28348efd90313d08f3'\n",
            "/content/nerf_pl\n",
            "Looking in indexes: https://pypi.org/simple, https://us-python.pkg.dev/colab-wheels/public/simple/\n",
            "Collecting torch==1.4.0\n",
            "  Downloading torch-1.4.0-cp37-cp37m-manylinux1_x86_64.whl (753.4 MB)\n",
            "\u001b[K     |████████████████████████████████| 753.4 MB 6.8 kB/s \n",
            "\u001b[?25hCollecting torchvision==0.5.0\n",
            "  Downloading torchvision-0.5.0-cp37-cp37m-manylinux1_x86_64.whl (4.0 MB)\n",
            "\u001b[K     |████████████████████████████████| 4.0 MB 44.4 MB/s \n",
            "\u001b[?25hCollecting pytorch-lightning==0.7.5\n",
            "  Downloading pytorch_lightning-0.7.5-py3-none-any.whl (233 kB)\n",
            "\u001b[K     |████████████████████████████████| 233 kB 70.5 MB/s \n",
            "\u001b[?25hCollecting test-tube\n",
            "  Downloading test_tube-0.7.5.tar.gz (21 kB)\n",
            "Collecting kornia==0.2.0\n",
            "  Downloading kornia-0.2.0-py2.py3-none-any.whl (142 kB)\n",
            "\u001b[K     |████████████████████████████████| 142 kB 61.2 MB/s \n",
            "\u001b[?25hCollecting opencv-python==4.2.0.34\n",
            "  Downloading opencv_python-4.2.0.34-cp37-cp37m-manylinux1_x86_64.whl (28.2 MB)\n",
            "\u001b[K     |████████████████████████████████| 28.2 MB 1.3 MB/s \n",
            "\u001b[?25hRequirement already satisfied: matplotlib in /usr/local/lib/python3.7/dist-packages (from -r requirements.txt (line 7)) (3.2.2)\n",
            "Collecting jupyter\n",
            "  Downloading jupyter-1.0.0-py2.py3-none-any.whl (2.7 kB)\n",
            "Collecting PyMCubes\n",
            "  Downloading PyMCubes-0.1.2-cp37-cp37m-manylinux2010_x86_64.whl (265 kB)\n",
            "\u001b[K     |████████████████████████████████| 265 kB 72.2 MB/s \n",
            "\u001b[?25hCollecting pycollada\n",
            "  Downloading pycollada-0.7.2.tar.gz (107 kB)\n",
            "\u001b[K     |████████████████████████████████| 107 kB 70.5 MB/s \n",
            "\u001b[?25hCollecting trimesh\n",
            "  Downloading trimesh-3.15.5-py3-none-any.whl (659 kB)\n",
            "\u001b[K     |████████████████████████████████| 659 kB 71.8 MB/s \n",
            "\u001b[?25hCollecting pyglet\n",
            "  Downloading pyglet-1.5.27-py3-none-any.whl (1.1 MB)\n",
            "\u001b[K     |████████████████████████████████| 1.1 MB 62.4 MB/s \n",
            "\u001b[?25hCollecting plyfile\n",
            "  Downloading plyfile-0.7.4-py3-none-any.whl (39 kB)\n",
            "Collecting open3d\n",
            "  Downloading open3d-0.16.0-cp37-cp37m-manylinux_2_27_x86_64.whl (422.4 MB)\n",
            "\u001b[K     |████████████████████████████████| 422.4 MB 7.3 kB/s \n",
            "\u001b[?25hRequirement already satisfied: pillow>=4.1.1 in /usr/local/lib/python3.7/dist-packages (from torchvision==0.5.0->-r requirements.txt (line 2)) (7.1.2)\n",
            "Requirement already satisfied: numpy in /usr/local/lib/python3.7/dist-packages (from torchvision==0.5.0->-r requirements.txt (line 2)) (1.21.6)\n",
            "Requirement already satisfied: six in /usr/local/lib/python3.7/dist-packages (from torchvision==0.5.0->-r requirements.txt (line 2)) (1.15.0)\n",
            "Requirement already satisfied: tqdm>=4.41.0 in /usr/local/lib/python3.7/dist-packages (from pytorch-lightning==0.7.5->-r requirements.txt (line 3)) (4.64.1)\n",
            "Requirement already satisfied: tensorboard>=1.14 in /usr/local/lib/python3.7/dist-packages (from pytorch-lightning==0.7.5->-r requirements.txt (line 3)) (2.9.1)\n",
            "Collecting future>=0.17.1\n",
            "  Downloading future-0.18.2.tar.gz (829 kB)\n",
            "\u001b[K     |████████████████████████████████| 829 kB 63.9 MB/s \n",
            "\u001b[?25hRequirement already satisfied: google-auth<3,>=1.6.3 in /usr/local/lib/python3.7/dist-packages (from tensorboard>=1.14->pytorch-lightning==0.7.5->-r requirements.txt (line 3)) (1.35.0)\n",
            "Requirement already satisfied: protobuf<3.20,>=3.9.2 in /usr/local/lib/python3.7/dist-packages (from tensorboard>=1.14->pytorch-lightning==0.7.5->-r requirements.txt (line 3)) (3.17.3)\n",
            "Requirement already satisfied: tensorboard-data-server<0.7.0,>=0.6.0 in /usr/local/lib/python3.7/dist-packages (from tensorboard>=1.14->pytorch-lightning==0.7.5->-r requirements.txt (line 3)) (0.6.1)\n",
            "Requirement already satisfied: grpcio>=1.24.3 in /usr/local/lib/python3.7/dist-packages (from tensorboard>=1.14->pytorch-lightning==0.7.5->-r requirements.txt (line 3)) (1.49.1)\n",
            "Requirement already satisfied: tensorboard-plugin-wit>=1.6.0 in /usr/local/lib/python3.7/dist-packages (from tensorboard>=1.14->pytorch-lightning==0.7.5->-r requirements.txt (line 3)) (1.8.1)\n",
            "Requirement already satisfied: wheel>=0.26 in /usr/local/lib/python3.7/dist-packages (from tensorboard>=1.14->pytorch-lightning==0.7.5->-r requirements.txt (line 3)) (0.37.1)\n",
            "Requirement already satisfied: absl-py>=0.4 in /usr/local/lib/python3.7/dist-packages (from tensorboard>=1.14->pytorch-lightning==0.7.5->-r requirements.txt (line 3)) (1.3.0)\n",
            "Requirement already satisfied: markdown>=2.6.8 in /usr/local/lib/python3.7/dist-packages (from tensorboard>=1.14->pytorch-lightning==0.7.5->-r requirements.txt (line 3)) (3.4.1)\n",
            "Requirement already satisfied: requests<3,>=2.21.0 in /usr/local/lib/python3.7/dist-packages (from tensorboard>=1.14->pytorch-lightning==0.7.5->-r requirements.txt (line 3)) (2.23.0)\n",
            "Requirement already satisfied: google-auth-oauthlib<0.5,>=0.4.1 in /usr/local/lib/python3.7/dist-packages (from tensorboard>=1.14->pytorch-lightning==0.7.5->-r requirements.txt (line 3)) (0.4.6)\n",
            "Requirement already satisfied: werkzeug>=1.0.1 in /usr/local/lib/python3.7/dist-packages (from tensorboard>=1.14->pytorch-lightning==0.7.5->-r requirements.txt (line 3)) (1.0.1)\n",
            "Requirement already satisfied: setuptools>=41.0.0 in /usr/local/lib/python3.7/dist-packages (from tensorboard>=1.14->pytorch-lightning==0.7.5->-r requirements.txt (line 3)) (57.4.0)\n",
            "Requirement already satisfied: cachetools<5.0,>=2.0.0 in /usr/local/lib/python3.7/dist-packages (from google-auth<3,>=1.6.3->tensorboard>=1.14->pytorch-lightning==0.7.5->-r requirements.txt (line 3)) (4.2.4)\n",
            "Requirement already satisfied: rsa<5,>=3.1.4 in /usr/local/lib/python3.7/dist-packages (from google-auth<3,>=1.6.3->tensorboard>=1.14->pytorch-lightning==0.7.5->-r requirements.txt (line 3)) (4.9)\n",
            "Requirement already satisfied: pyasn1-modules>=0.2.1 in /usr/local/lib/python3.7/dist-packages (from google-auth<3,>=1.6.3->tensorboard>=1.14->pytorch-lightning==0.7.5->-r requirements.txt (line 3)) (0.2.8)\n",
            "Requirement already satisfied: requests-oauthlib>=0.7.0 in /usr/local/lib/python3.7/dist-packages (from google-auth-oauthlib<0.5,>=0.4.1->tensorboard>=1.14->pytorch-lightning==0.7.5->-r requirements.txt (line 3)) (1.3.1)\n",
            "Requirement already satisfied: importlib-metadata>=4.4 in /usr/local/lib/python3.7/dist-packages (from markdown>=2.6.8->tensorboard>=1.14->pytorch-lightning==0.7.5->-r requirements.txt (line 3)) (4.13.0)\n",
            "Requirement already satisfied: zipp>=0.5 in /usr/local/lib/python3.7/dist-packages (from importlib-metadata>=4.4->markdown>=2.6.8->tensorboard>=1.14->pytorch-lightning==0.7.5->-r requirements.txt (line 3)) (3.9.0)\n",
            "Requirement already satisfied: typing-extensions>=3.6.4 in /usr/local/lib/python3.7/dist-packages (from importlib-metadata>=4.4->markdown>=2.6.8->tensorboard>=1.14->pytorch-lightning==0.7.5->-r requirements.txt (line 3)) (4.1.1)\n",
            "Requirement already satisfied: pyasn1<0.5.0,>=0.4.6 in /usr/local/lib/python3.7/dist-packages (from pyasn1-modules>=0.2.1->google-auth<3,>=1.6.3->tensorboard>=1.14->pytorch-lightning==0.7.5->-r requirements.txt (line 3)) (0.4.8)\n",
            "Requirement already satisfied: chardet<4,>=3.0.2 in /usr/local/lib/python3.7/dist-packages (from requests<3,>=2.21.0->tensorboard>=1.14->pytorch-lightning==0.7.5->-r requirements.txt (line 3)) (3.0.4)\n",
            "Requirement already satisfied: idna<3,>=2.5 in /usr/local/lib/python3.7/dist-packages (from requests<3,>=2.21.0->tensorboard>=1.14->pytorch-lightning==0.7.5->-r requirements.txt (line 3)) (2.10)\n",
            "Requirement already satisfied: certifi>=2017.4.17 in /usr/local/lib/python3.7/dist-packages (from requests<3,>=2.21.0->tensorboard>=1.14->pytorch-lightning==0.7.5->-r requirements.txt (line 3)) (2022.9.24)\n",
            "Requirement already satisfied: urllib3!=1.25.0,!=1.25.1,<1.26,>=1.21.1 in /usr/local/lib/python3.7/dist-packages (from requests<3,>=2.21.0->tensorboard>=1.14->pytorch-lightning==0.7.5->-r requirements.txt (line 3)) (1.24.3)\n",
            "Requirement already satisfied: oauthlib>=3.0.0 in /usr/local/lib/python3.7/dist-packages (from requests-oauthlib>=0.7.0->google-auth-oauthlib<0.5,>=0.4.1->tensorboard>=1.14->pytorch-lightning==0.7.5->-r requirements.txt (line 3)) (3.2.1)\n",
            "Requirement already satisfied: pandas>=0.20.3 in /usr/local/lib/python3.7/dist-packages (from test-tube->-r requirements.txt (line 4)) (1.3.5)\n",
            "Requirement already satisfied: imageio>=2.3.0 in /usr/local/lib/python3.7/dist-packages (from test-tube->-r requirements.txt (line 4)) (2.9.0)\n",
            "Requirement already satisfied: python-dateutil>=2.7.3 in /usr/local/lib/python3.7/dist-packages (from pandas>=0.20.3->test-tube->-r requirements.txt (line 4)) (2.8.2)\n",
            "Requirement already satisfied: pytz>=2017.3 in /usr/local/lib/python3.7/dist-packages (from pandas>=0.20.3->test-tube->-r requirements.txt (line 4)) (2022.4)\n",
            "Requirement already satisfied: cycler>=0.10 in /usr/local/lib/python3.7/dist-packages (from matplotlib->-r requirements.txt (line 7)) (0.11.0)\n",
            "Requirement already satisfied: kiwisolver>=1.0.1 in /usr/local/lib/python3.7/dist-packages (from matplotlib->-r requirements.txt (line 7)) (1.4.4)\n",
            "Requirement already satisfied: pyparsing!=2.0.4,!=2.1.2,!=2.1.6,>=2.0.1 in /usr/local/lib/python3.7/dist-packages (from matplotlib->-r requirements.txt (line 7)) (3.0.9)\n",
            "Collecting qtconsole\n",
            "  Downloading qtconsole-5.3.2-py3-none-any.whl (120 kB)\n",
            "\u001b[K     |████████████████████████████████| 120 kB 72.7 MB/s \n",
            "\u001b[?25hRequirement already satisfied: jupyter-console in /usr/local/lib/python3.7/dist-packages (from jupyter->-r requirements.txt (line 8)) (6.1.0)\n",
            "Requirement already satisfied: nbconvert in /usr/local/lib/python3.7/dist-packages (from jupyter->-r requirements.txt (line 8)) (5.6.1)\n",
            "Requirement already satisfied: ipywidgets in /usr/local/lib/python3.7/dist-packages (from jupyter->-r requirements.txt (line 8)) (7.7.1)\n",
            "Requirement already satisfied: ipykernel in /usr/local/lib/python3.7/dist-packages (from jupyter->-r requirements.txt (line 8)) (5.3.4)\n",
            "Requirement already satisfied: notebook in /usr/local/lib/python3.7/dist-packages (from jupyter->-r requirements.txt (line 8)) (5.5.0)\n",
            "Collecting configargparse\n",
            "  Downloading ConfigArgParse-1.5.3-py3-none-any.whl (20 kB)\n",
            "Requirement already satisfied: pyyaml>=5.4.1 in /usr/local/lib/python3.7/dist-packages (from open3d->-r requirements.txt (line 18)) (6.0)\n",
            "Collecting dash>=2.6.0\n",
            "  Downloading dash-2.6.2-py3-none-any.whl (9.8 MB)\n",
            "\u001b[K     |████████████████████████████████| 9.8 MB 5.1 MB/s \n",
            "\u001b[?25hCollecting addict\n",
            "  Downloading addict-2.4.0-py3-none-any.whl (3.8 kB)\n",
            "Requirement already satisfied: scikit-learn>=0.21 in /usr/local/lib/python3.7/dist-packages (from open3d->-r requirements.txt (line 18)) (1.0.2)\n",
            "Collecting pillow>=4.1.1\n",
            "  Downloading Pillow-9.2.0-cp37-cp37m-manylinux_2_17_x86_64.manylinux2014_x86_64.whl (3.1 MB)\n",
            "\u001b[K     |████████████████████████████████| 3.1 MB 48.5 MB/s \n",
            "\u001b[?25hCollecting nbformat==5.5.0\n",
            "  Downloading nbformat-5.5.0-py3-none-any.whl (75 kB)\n",
            "\u001b[K     |████████████████████████████████| 75 kB 4.7 MB/s \n",
            "\u001b[?25hCollecting pyquaternion\n",
            "  Downloading pyquaternion-0.9.9-py3-none-any.whl (14 kB)\n",
            "Requirement already satisfied: fastjsonschema in /usr/local/lib/python3.7/dist-packages (from nbformat==5.5.0->open3d->-r requirements.txt (line 18)) (2.16.2)\n",
            "Requirement already satisfied: traitlets>=5.1 in /usr/local/lib/python3.7/dist-packages (from nbformat==5.5.0->open3d->-r requirements.txt (line 18)) (5.1.1)\n",
            "Requirement already satisfied: jupyter_core in /usr/local/lib/python3.7/dist-packages (from nbformat==5.5.0->open3d->-r requirements.txt (line 18)) (4.11.1)\n",
            "Requirement already satisfied: jsonschema>=2.6 in /usr/local/lib/python3.7/dist-packages (from nbformat==5.5.0->open3d->-r requirements.txt (line 18)) (4.3.3)\n",
            "Requirement already satisfied: plotly>=5.0.0 in /usr/local/lib/python3.7/dist-packages (from dash>=2.6.0->open3d->-r requirements.txt (line 18)) (5.5.0)\n",
            "Requirement already satisfied: Flask>=1.0.4 in /usr/local/lib/python3.7/dist-packages (from dash>=2.6.0->open3d->-r requirements.txt (line 18)) (1.1.4)\n",
            "Collecting dash-core-components==2.0.0\n",
            "  Downloading dash_core_components-2.0.0-py3-none-any.whl (3.8 kB)\n",
            "Collecting dash-table==5.0.0\n",
            "  Downloading dash_table-5.0.0-py3-none-any.whl (3.9 kB)\n",
            "Collecting dash-html-components==2.0.0\n",
            "  Downloading dash_html_components-2.0.0-py3-none-any.whl (4.1 kB)\n",
            "Collecting flask-compress\n",
            "  Downloading Flask_Compress-1.13-py3-none-any.whl (7.9 kB)\n",
            "Requirement already satisfied: click<8.0,>=5.1 in /usr/local/lib/python3.7/dist-packages (from Flask>=1.0.4->dash>=2.6.0->open3d->-r requirements.txt (line 18)) (7.1.2)\n",
            "Requirement already satisfied: itsdangerous<2.0,>=0.24 in /usr/local/lib/python3.7/dist-packages (from Flask>=1.0.4->dash>=2.6.0->open3d->-r requirements.txt (line 18)) (1.1.0)\n",
            "Requirement already satisfied: Jinja2<3.0,>=2.10.1 in /usr/local/lib/python3.7/dist-packages (from Flask>=1.0.4->dash>=2.6.0->open3d->-r requirements.txt (line 18)) (2.11.3)\n",
            "Requirement already satisfied: widgetsnbextension~=3.6.0 in /usr/local/lib/python3.7/dist-packages (from ipywidgets->jupyter->-r requirements.txt (line 8)) (3.6.1)\n",
            "Requirement already satisfied: ipython>=4.0.0 in /usr/local/lib/python3.7/dist-packages (from ipywidgets->jupyter->-r requirements.txt (line 8)) (7.9.0)\n",
            "Requirement already satisfied: ipython-genutils~=0.2.0 in /usr/local/lib/python3.7/dist-packages (from ipywidgets->jupyter->-r requirements.txt (line 8)) (0.2.0)\n",
            "Requirement already satisfied: jupyterlab-widgets>=1.0.0 in /usr/local/lib/python3.7/dist-packages (from ipywidgets->jupyter->-r requirements.txt (line 8)) (3.0.3)\n",
            "Requirement already satisfied: tornado>=4.2 in /usr/local/lib/python3.7/dist-packages (from ipykernel->jupyter->-r requirements.txt (line 8)) (5.1.1)\n",
            "Requirement already satisfied: jupyter-client in /usr/local/lib/python3.7/dist-packages (from ipykernel->jupyter->-r requirements.txt (line 8)) (6.1.12)\n",
            "Requirement already satisfied: pickleshare in /usr/local/lib/python3.7/dist-packages (from ipython>=4.0.0->ipywidgets->jupyter->-r requirements.txt (line 8)) (0.7.5)\n",
            "Requirement already satisfied: prompt-toolkit<2.1.0,>=2.0.0 in /usr/local/lib/python3.7/dist-packages (from ipython>=4.0.0->ipywidgets->jupyter->-r requirements.txt (line 8)) (2.0.10)\n",
            "Requirement already satisfied: decorator in /usr/local/lib/python3.7/dist-packages (from ipython>=4.0.0->ipywidgets->jupyter->-r requirements.txt (line 8)) (4.4.2)\n",
            "Collecting jedi>=0.10\n",
            "  Downloading jedi-0.18.1-py2.py3-none-any.whl (1.6 MB)\n",
            "\u001b[K     |████████████████████████████████| 1.6 MB 51.3 MB/s \n",
            "\u001b[?25hRequirement already satisfied: pexpect in /usr/local/lib/python3.7/dist-packages (from ipython>=4.0.0->ipywidgets->jupyter->-r requirements.txt (line 8)) (4.8.0)\n",
            "Requirement already satisfied: pygments in /usr/local/lib/python3.7/dist-packages (from ipython>=4.0.0->ipywidgets->jupyter->-r requirements.txt (line 8)) (2.6.1)\n",
            "Requirement already satisfied: backcall in /usr/local/lib/python3.7/dist-packages (from ipython>=4.0.0->ipywidgets->jupyter->-r requirements.txt (line 8)) (0.2.0)\n",
            "Requirement already satisfied: parso<0.9.0,>=0.8.0 in /usr/local/lib/python3.7/dist-packages (from jedi>=0.10->ipython>=4.0.0->ipywidgets->jupyter->-r requirements.txt (line 8)) (0.8.3)\n",
            "Requirement already satisfied: MarkupSafe>=0.23 in /usr/local/lib/python3.7/dist-packages (from Jinja2<3.0,>=2.10.1->Flask>=1.0.4->dash>=2.6.0->open3d->-r requirements.txt (line 18)) (2.0.1)\n",
            "Requirement already satisfied: importlib-resources>=1.4.0 in /usr/local/lib/python3.7/dist-packages (from jsonschema>=2.6->nbformat==5.5.0->open3d->-r requirements.txt (line 18)) (5.10.0)\n",
            "Requirement already satisfied: pyrsistent!=0.17.0,!=0.17.1,!=0.17.2,>=0.14.0 in /usr/local/lib/python3.7/dist-packages (from jsonschema>=2.6->nbformat==5.5.0->open3d->-r requirements.txt (line 18)) (0.18.1)\n",
            "Requirement already satisfied: attrs>=17.4.0 in /usr/local/lib/python3.7/dist-packages (from jsonschema>=2.6->nbformat==5.5.0->open3d->-r requirements.txt (line 18)) (22.1.0)\n",
            "Requirement already satisfied: tenacity>=6.2.0 in /usr/local/lib/python3.7/dist-packages (from plotly>=5.0.0->dash>=2.6.0->open3d->-r requirements.txt (line 18)) (8.1.0)\n",
            "Requirement already satisfied: wcwidth in /usr/local/lib/python3.7/dist-packages (from prompt-toolkit<2.1.0,>=2.0.0->ipython>=4.0.0->ipywidgets->jupyter->-r requirements.txt (line 8)) (0.2.5)\n",
            "Requirement already satisfied: threadpoolctl>=2.0.0 in /usr/local/lib/python3.7/dist-packages (from scikit-learn>=0.21->open3d->-r requirements.txt (line 18)) (3.1.0)\n",
            "Requirement already satisfied: scipy>=1.1.0 in /usr/local/lib/python3.7/dist-packages (from scikit-learn>=0.21->open3d->-r requirements.txt (line 18)) (1.7.3)\n",
            "Requirement already satisfied: joblib>=0.11 in /usr/local/lib/python3.7/dist-packages (from scikit-learn>=0.21->open3d->-r requirements.txt (line 18)) (1.2.0)\n",
            "Requirement already satisfied: terminado>=0.8.1 in /usr/local/lib/python3.7/dist-packages (from notebook->jupyter->-r requirements.txt (line 8)) (0.13.3)\n",
            "Requirement already satisfied: pyzmq>=17 in /usr/local/lib/python3.7/dist-packages (from notebook->jupyter->-r requirements.txt (line 8)) (23.2.1)\n",
            "Requirement already satisfied: Send2Trash in /usr/local/lib/python3.7/dist-packages (from notebook->jupyter->-r requirements.txt (line 8)) (1.8.0)\n",
            "Requirement already satisfied: ptyprocess in /usr/local/lib/python3.7/dist-packages (from terminado>=0.8.1->notebook->jupyter->-r requirements.txt (line 8)) (0.7.0)\n",
            "Collecting brotli\n",
            "  Downloading Brotli-1.0.9-cp37-cp37m-manylinux1_x86_64.whl (357 kB)\n",
            "\u001b[K     |████████████████████████████████| 357 kB 73.9 MB/s \n",
            "\u001b[?25hRequirement already satisfied: bleach in /usr/local/lib/python3.7/dist-packages (from nbconvert->jupyter->-r requirements.txt (line 8)) (5.0.1)\n",
            "Requirement already satisfied: mistune<2,>=0.8.1 in /usr/local/lib/python3.7/dist-packages (from nbconvert->jupyter->-r requirements.txt (line 8)) (0.8.4)\n",
            "Requirement already satisfied: entrypoints>=0.2.2 in /usr/local/lib/python3.7/dist-packages (from nbconvert->jupyter->-r requirements.txt (line 8)) (0.4)\n",
            "Requirement already satisfied: defusedxml in /usr/local/lib/python3.7/dist-packages (from nbconvert->jupyter->-r requirements.txt (line 8)) (0.7.1)\n",
            "Requirement already satisfied: testpath in /usr/local/lib/python3.7/dist-packages (from nbconvert->jupyter->-r requirements.txt (line 8)) (0.6.0)\n",
            "Requirement already satisfied: pandocfilters>=1.4.1 in /usr/local/lib/python3.7/dist-packages (from nbconvert->jupyter->-r requirements.txt (line 8)) (1.5.0)\n",
            "Requirement already satisfied: webencodings in /usr/local/lib/python3.7/dist-packages (from bleach->nbconvert->jupyter->-r requirements.txt (line 8)) (0.5.1)\n",
            "Collecting qtpy>=2.0.1\n",
            "  Downloading QtPy-2.2.1-py3-none-any.whl (82 kB)\n",
            "\u001b[K     |████████████████████████████████| 82 kB 1.0 MB/s \n",
            "\u001b[?25hRequirement already satisfied: packaging in /usr/local/lib/python3.7/dist-packages (from qtpy>=2.0.1->qtconsole->jupyter->-r requirements.txt (line 8)) (21.3)\n",
            "Building wheels for collected packages: future, test-tube, pycollada\n",
            "  Building wheel for future (setup.py) ... \u001b[?25l\u001b[?25hdone\n",
            "  Created wheel for future: filename=future-0.18.2-py3-none-any.whl size=491070 sha256=7b6a916e9541b6ff30cddd9240a15e02f6e03a7d01ace6cc3273d910b1cf2ce4\n",
            "  Stored in directory: /root/.cache/pip/wheels/56/b0/fe/4410d17b32f1f0c3cf54cdfb2bc04d7b4b8f4ae377e2229ba0\n",
            "  Building wheel for test-tube (setup.py) ... \u001b[?25l\u001b[?25hdone\n",
            "  Created wheel for test-tube: filename=test_tube-0.7.5-py3-none-any.whl size=25356 sha256=9e69292634b27738be5b673c25b2de4c756b023482aef6f84a22acb5d88b6cc6\n",
            "  Stored in directory: /root/.cache/pip/wheels/1c/50/0d/15b3236957cc18a5c39ec4d4d4d21624f4d4a876756ec17064\n",
            "  Building wheel for pycollada (setup.py) ... \u001b[?25l\u001b[?25hdone\n",
            "  Created wheel for pycollada: filename=pycollada-0.7.2-py3-none-any.whl size=127028 sha256=6d31b44a98973594b226c2a3763972fe15d804031e33c5458b1d84966254ec04\n",
            "  Stored in directory: /root/.cache/pip/wheels/19/0b/be/6cad4a774484615180dc30a68ff3635fbc36cccf489bcd6543\n",
            "Successfully built future test-tube pycollada\n",
            "Installing collected packages: jedi, nbformat, brotli, qtpy, pillow, flask-compress, dash-table, dash-html-components, dash-core-components, torch, qtconsole, pyquaternion, future, dash, configargparse, addict, trimesh, torchvision, test-tube, pytorch-lightning, PyMCubes, pyglet, pycollada, plyfile, opencv-python, open3d, kornia, jupyter\n",
            "  Attempting uninstall: nbformat\n",
            "    Found existing installation: nbformat 5.7.0\n",
            "    Uninstalling nbformat-5.7.0:\n",
            "      Successfully uninstalled nbformat-5.7.0\n",
            "  Attempting uninstall: pillow\n",
            "    Found existing installation: Pillow 7.1.2\n",
            "    Uninstalling Pillow-7.1.2:\n",
            "      Successfully uninstalled Pillow-7.1.2\n",
            "  Attempting uninstall: torch\n",
            "    Found existing installation: torch 1.12.1+cu113\n",
            "    Uninstalling torch-1.12.1+cu113:\n",
            "      Successfully uninstalled torch-1.12.1+cu113\n",
            "  Attempting uninstall: future\n",
            "    Found existing installation: future 0.16.0\n",
            "    Uninstalling future-0.16.0:\n",
            "      Successfully uninstalled future-0.16.0\n",
            "  Attempting uninstall: torchvision\n",
            "    Found existing installation: torchvision 0.13.1+cu113\n",
            "    Uninstalling torchvision-0.13.1+cu113:\n",
            "      Successfully uninstalled torchvision-0.13.1+cu113\n",
            "  Attempting uninstall: opencv-python\n",
            "    Found existing installation: opencv-python 4.6.0.66\n",
            "    Uninstalling opencv-python-4.6.0.66:\n",
            "      Successfully uninstalled opencv-python-4.6.0.66\n",
            "\u001b[31mERROR: pip's dependency resolver does not currently take into account all the packages that are installed. This behaviour is the source of the following dependency conflicts.\n",
            "torchtext 0.13.1 requires torch==1.12.1, but you have torch 1.4.0 which is incompatible.\n",
            "torchaudio 0.12.1+cu113 requires torch==1.12.1, but you have torch 1.4.0 which is incompatible.\n",
            "fastai 2.7.9 requires torch<1.14,>=1.7, but you have torch 1.4.0 which is incompatible.\n",
            "fastai 2.7.9 requires torchvision>=0.8.2, but you have torchvision 0.5.0 which is incompatible.\u001b[0m\n",
            "Successfully installed PyMCubes-0.1.2 addict-2.4.0 brotli-1.0.9 configargparse-1.5.3 dash-2.6.2 dash-core-components-2.0.0 dash-html-components-2.0.0 dash-table-5.0.0 flask-compress-1.13 future-0.18.2 jedi-0.18.1 jupyter-1.0.0 kornia-0.2.0 nbformat-5.5.0 open3d-0.16.0 opencv-python-4.2.0.34 pillow-9.2.0 plyfile-0.7.4 pycollada-0.7.2 pyglet-1.5.27 pyquaternion-0.9.9 pytorch-lightning-0.7.5 qtconsole-5.3.2 qtpy-2.2.1 test-tube-0.7.5 torch-1.4.0 torchvision-0.5.0 trimesh-3.15.5\n"
          ]
        },
        {
          "output_type": "display_data",
          "data": {
            "application/vnd.colab-display-data+json": {
              "pip_warning": {
                "packages": [
                  "PIL"
                ]
              }
            }
          },
          "metadata": {}
        },
        {
          "output_type": "stream",
          "name": "stdout",
          "text": [
            "/content/nerf_pl/torchsearchsorted\n",
            "Looking in indexes: https://pypi.org/simple, https://us-python.pkg.dev/colab-wheels/public/simple/\n",
            "Processing /content/nerf_pl/torchsearchsorted\n",
            "\u001b[33m  DEPRECATION: A future pip version will change local packages to be built in-place without first copying to a temporary directory. We recommend you use --use-feature=in-tree-build to test your packages with this new behavior before it becomes the default.\n",
            "   pip 21.3 will remove support for this functionality. You can find discussion regarding this at https://github.com/pypa/pip/issues/7555.\u001b[0m\n",
            "Building wheels for collected packages: torchsearchsorted\n",
            "  Building wheel for torchsearchsorted (setup.py) ... \u001b[?25l\u001b[?25hdone\n",
            "  Created wheel for torchsearchsorted: filename=torchsearchsorted-1.1-cp37-cp37m-linux_x86_64.whl size=3207420 sha256=a4df872cf922fb5e1f5eac49f382a8fb0cc01d564381ba576678a031dbef83ab\n",
            "  Stored in directory: /tmp/pip-ephem-wheel-cache-hf8h17rr/wheels/f0/75/06/3b90bb6a54c933890a1ab2be264db76042598a2cd1aa71a29b\n",
            "Successfully built torchsearchsorted\n",
            "Installing collected packages: torchsearchsorted\n",
            "Successfully installed torchsearchsorted-1.1\n"
          ]
        }
      ]
    },
    {
      "cell_type": "markdown",
      "metadata": {
        "id": "jWJIcY5_t2Cl"
      },
      "source": [
        "# Mount your google drive (to access data)"
      ]
    },
    {
      "cell_type": "code",
      "metadata": {
        "id": "q7qlz9AlqpjE",
        "outputId": "6fe4405b-8357-4212-8a2b-4d065b2ea596",
        "colab": {
          "base_uri": "https://localhost:8080/"
        }
      },
      "source": [
        "from google.colab import drive\n",
        "drive.mount('/content/drive/', force_remount=True)"
      ],
      "execution_count": 2,
      "outputs": [
        {
          "output_type": "stream",
          "name": "stdout",
          "text": [
            "Mounted at /content/drive/\n"
          ]
        }
      ]
    },
    {
      "cell_type": "markdown",
      "metadata": {
        "id": "lC4P161it9bb"
      },
      "source": [
        "# Train! (depending on number of epochs, takes about 5~8 hours)\n",
        "\n",
        "### model weights are saved to `ckpts/$EXP`\n",
        "### training logs (loss/PSNR evolution) are saved to `logs/$EXP`"
      ]
    },
    {
      "cell_type": "markdown",
      "metadata": {
        "id": "sR-o1P3cyiKS"
      },
      "source": [
        "## Forward facing scene"
      ]
    },
    {
      "cell_type": "code",
      "metadata": {
        "id": "d35_YDDErL6T",
        "outputId": "7b74f894-544d-496a-cb12-996636ae8187",
        "colab": {
          "base_uri": "https://localhost:8080/",
          "height": 763
        }
      },
      "source": [
        "%cd /content/nerf_pl\n",
        "\n",
        "import os\n",
        "# set training configurations here\n",
        "os.environ['ROOT_DIR'] = \"/content/drive/My Drive/colab/nerf/nerf_llff_data/fern\"\n",
        "                         # directory containing the data\n",
        "os.environ['IMG_W'] = \"504\" # image width (do not set too large)\n",
        "os.environ['IMG_H'] = \"378\" # image height (do not set too large)\n",
        "os.environ['NUM_EPOCHS'] = \"30\" # number of epochs to train (depending on how many images there are,\n",
        "                                # 20~30 might be enough)\n",
        "os.environ['EXP'] = \"fern\" # name of the experience (arbitrary)\n",
        "\n",
        "!python train.py \\\n",
        "   --dataset_name llff \\\n",
        "   --root_dir \"$ROOT_DIR\" \\\n",
        "   --N_importance 64 --img_wh $IMG_W $IMG_H \\\n",
        "   --num_epochs $NUM_EPOCHS --batch_size 1024 \\\n",
        "   --optimizer adam --lr 5e-4 \\\n",
        "   --lr_scheduler cosine \\\n",
        "   --exp_name $EXP"
      ],
      "execution_count": null,
      "outputs": [
        {
          "output_type": "stream",
          "text": [
            "/content/nerf_pl\n",
            "INFO:lightning:GPU available: True, used: True\n",
            "INFO:lightning:VISIBLE GPUS: 0\n",
            "val image is /content/drive/My Drive/colab/nerf/nerf_llff_data/fern/images/IMG_4038.JPG\n",
            "2020-04-26 09:16:47.901672: I tensorflow/stream_executor/platform/default/dso_loader.cc:44] Successfully opened dynamic library libcudart.so.10.1\n",
            "0it [00:00, ?it/s]/usr/local/lib/python3.6/dist-packages/pytorch_lightning/utilities/warnings.py:18: RuntimeWarning: Displayed epoch numbers in the progress bar start from \"1\" until v0.6.x, but will start from \"0\" in v0.8.0.\n",
            "  warnings.warn(*args, **kwargs)\n",
            "Epoch 1: 100% 3535/3536 [11:00<00:00,  5.35it/s, loss=0.014, train_psnr=22.2, v_num=0]\n",
            "Validating:   0% 0/1 [00:00<?, ?it/s]\u001b[A\n",
            "Epoch 1: 100% 3536/3536 [11:11<00:00,  5.27it/s, loss=0.014, train_psnr=22.2, v_num=0, val_loss=0.0149, val_psnr=21.3]\n",
            "Epoch 2: 100% 3535/3536 [10:59<00:00,  5.36it/s, loss=0.012, train_psnr=22.5, v_num=0, val_loss=0.0149, val_psnr=21.3]\n",
            "Validating:   0% 0/1 [00:00<?, ?it/s]\u001b[A\n",
            "Epoch 2: 100% 3536/3536 [11:10<00:00,  5.28it/s, loss=0.012, train_psnr=22.5, v_num=0, val_loss=0.0125, val_psnr=22.1]\n",
            "Epoch 3: 100% 3535/3536 [11:02<00:00,  5.34it/s, loss=0.010, train_psnr=23.3, v_num=0, val_loss=0.0125, val_psnr=22.1]\n",
            "Validating:   0% 0/1 [00:00<?, ?it/s]\u001b[A\n",
            "Epoch 3: 100% 3536/3536 [11:13<00:00,  5.25it/s, loss=0.010, train_psnr=23.3, v_num=0, val_loss=0.011, val_psnr=22.6] \n",
            "Epoch 4: 100% 3535/3536 [11:02<00:00,  5.33it/s, loss=0.010, train_psnr=22.8, v_num=0, val_loss=0.011, val_psnr=22.6]\n",
            "Validating:   0% 0/1 [00:00<?, ?it/s]\u001b[A\n",
            "Epoch 4: 100% 3536/3536 [11:14<00:00,  5.25it/s, loss=0.010, train_psnr=22.8, v_num=0, val_loss=0.0104, val_psnr=22.9]\n",
            "Epoch 5: 100% 3535/3536 [11:02<00:00,  5.33it/s, loss=0.009, train_psnr=23.6, v_num=0, val_loss=0.0104, val_psnr=22.9]\n",
            "Validating:   0% 0/1 [00:00<?, ?it/s]\u001b[A\n",
            "Epoch 5: 100% 3536/3536 [11:13<00:00,  5.25it/s, loss=0.009, train_psnr=23.6, v_num=0, val_loss=0.00984, val_psnr=23.2]\n",
            "Epoch 6:   1% 21/3536 [00:04<12:19,  4.75it/s, loss=0.009, train_psnr=24.1, v_num=0, val_loss=0.00984, val_psnr=23.2]INFO:lightning:Detected KeyboardInterrupt, attempting graceful shutdown...\n",
            "Epoch 6:   1% 21/3536 [00:04<12:48,  4.57it/s, loss=0.009, train_psnr=24.1, v_num=0, val_loss=0.00984, val_psnr=23.2]\n",
            "INFO:lightning:\n",
            "\n",
            "Profiler Report\n",
            "\n",
            "Action              \t|  Mean duration (s)\t|  Total time (s) \n",
            "-----------------------------------------------------------------\n",
            "on_train_start      \t|  1.9846e-05     \t|  1.9846e-05     \n",
            "on_epoch_start      \t|  9.1695e-06     \t|  5.5017e-05     \n",
            "get_train_batch     \t|  0.00042811     \t|  7.5784         \n",
            "on_batch_start      \t|  9.6239e-06     \t|  0.17031        \n",
            "model_forward       \t|  0.057772       \t|  1022.4         \n",
            "model_backward      \t|  0.080761       \t|  1429.1         \n",
            "on_after_backward   \t|  3.6579e-06     \t|  0.064729       \n",
            "optimizer_step      \t|  0.0049311      \t|  87.262         \n",
            "on_batch_end        \t|  9.5256e-06     \t|  0.16857        \n",
            "on_epoch_end        \t|  7.7046e-06     \t|  3.8523e-05     \n",
            "on_train_end        \t|  2.1417e-05     \t|  2.1417e-05     \n",
            "\n"
          ],
          "name": "stdout"
        }
      ]
    },
    {
      "cell_type": "markdown",
      "metadata": {
        "id": "6jk8eHzM91td"
      },
      "source": [
        "## 360 inward-facing scene"
      ]
    },
    {
      "cell_type": "code",
      "metadata": {
        "id": "yHSCPvKGsevy",
        "colab": {
          "base_uri": "https://localhost:8080/"
        },
        "outputId": "f8acfee9-4c80-4c7f-c9ed-ea291b27b888"
      },
      "source": [
        "%cd /content/nerf_pl\n",
        "\n",
        "import os\n",
        "# set training configurations here\n",
        "os.environ['ROOT_DIR'] = \"/content/drive/My Drive/monk\"\n",
        "                         # directory containing the data\n",
        "os.environ['IMG_W'] = \"504\" # image width (do not set too large)\n",
        "os.environ['IMG_H'] = \"378\" # image height (do not set too large)\n",
        "os.environ['NUM_EPOCHS'] = \"20\" # number of epochs to train (depending on how many images there are,\n",
        "                                # 20~30 might be enough)\n",
        "os.environ['EXP'] = \"monk\" # name of the experience (arbitrary)\n",
        "\n",
        "!python train.py \\\n",
        "   --dataset_name llff \\\n",
        "   --root_dir \"$ROOT_DIR\" \\\n",
        "   --N_importance 64 --img_wh $IMG_W $IMG_H \\\n",
        "   --spheric --use_disp \\\n",
        "   --num_epochs $NUM_EPOCHS --batch_size 1024 \\\n",
        "   --optimizer adam --lr 5e-4 \\\n",
        "   --lr_scheduler cosine \\\n",
        "   --exp_name $EXP"
      ],
      "execution_count": null,
      "outputs": [
        {
          "output_type": "stream",
          "name": "stdout",
          "text": [
            "/content/nerf_pl\n",
            "INFO:numexpr.utils:NumExpr defaulting to 2 threads.\n",
            "INFO:lightning:GPU available: True, used: True\n",
            "INFO:lightning:CUDA_VISIBLE_DEVICES: [0]\n",
            "val image is /content/drive/My Drive/monk/images/IMG_6012.JPG\n",
            "Epoch 1:  79% 7496/9490 [32:54<08:45,  3.80it/s, loss=0.005, train_psnr=26.8, v_num=0]"
          ]
        }
      ]
    },
    {
      "cell_type": "code",
      "source": [
        "!cp /ckpts/monk/epoch /content/drive/MyDrive/epoch"
      ],
      "metadata": {
        "id": "Ahp5NRKN0Azs"
      },
      "execution_count": null,
      "outputs": []
    },
    {
      "cell_type": "markdown",
      "metadata": {
        "id": "1ziFoDza-kFT"
      },
      "source": [
        "# Testing! (takes about 20~30 minutes)\n",
        "\n",
        "### You can also download the pretrained model for `fern` [here](https://github.com/kwea123/nerf_pl/releases)\n",
        "\n",
        "### The results are saved to `results/llff/$SCENE`"
      ]
    },
    {
      "cell_type": "code",
      "metadata": {
        "id": "VuEZAYk0-k4j",
        "outputId": "db46357a-fce0-4102-c562-2e62c9ef9bd9",
        "colab": {
          "base_uri": "https://localhost:8080/",
          "height": 34
        }
      },
      "source": [
        "os.environ['SCENE'] = 'fern'\n",
        "os.environ['CKPT_PATH'] = '/content/epoch.40.ckpt'\n",
        "\n",
        "!python eval.py \\\n",
        "   --root_dir \"$ROOT_DIR\" \\\n",
        "   --dataset_name llff --scene_name $SCENE \\\n",
        "   --img_wh $IMG_W $IMG_H --N_importance 64 --ckpt_path $CKPT_PATH"
      ],
      "execution_count": null,
      "outputs": [
        {
          "output_type": "stream",
          "text": [
            "100% 120/120 [20:48<00:00, 10.41s/it]\n"
          ],
          "name": "stdout"
        }
      ]
    }
  ]
}